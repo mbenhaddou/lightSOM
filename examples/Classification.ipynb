{
 "cells": [
  {
   "cell_type": "markdown",
   "metadata": {},
   "source": [
    "This is an application of lightSOM to solve a classification problem.\n",
    "\n",
    "We will use the wine databse in this example. The wine dataset is a classic and very easy multi-class classification dataset."
   ]
  },
  {
   "cell_type": "code",
   "execution_count": 1,
   "metadata": {},
   "outputs": [],
   "source": [
    "%load_ext autoreload\n",
    "%autoreload 2\n",
    "import sys\n",
    "sys.path.append(\"..\")\n",
    "sys.path.append('../..')"
   ]
  },
  {
   "cell_type": "code",
   "execution_count": 2,
   "metadata": {},
   "outputs": [],
   "source": [
    "from sklearn.datasets import load_wine\n",
    "data = load_wine()\n",
    "\n",
    "labels=data.target"
   ]
  },
  {
   "cell_type": "code",
   "execution_count": 3,
   "metadata": {},
   "outputs": [
    {
     "name": "stdout",
     "output_type": "stream",
     "text": [
      "Periodic Boundary Conditions active.\n",
      "The weights will be initialised with PCA.\n",
      " [ 1780 / 1780 ] 100% - 0:00:00 left \n",
      " quantization error: 244.45303437781948\n",
      "\n",
      " topological error: 0.03932584269662921\n",
      "Training SOM... done!\n"
     ]
    }
   ],
   "source": [
    "from lightSOM import SOM\n",
    "\n",
    "som=SOM().create(20, 20, data.data, target=data.target,pci=True, pbc=True)\n",
    "\n",
    "som.train(0.5, 10000, random_order=False, keep_error_history=False)"
   ]
  },
  {
   "cell_type": "markdown",
   "metadata": {},
   "source": [
    "The lightSOM has a simple classification approach using the label assigned to the associated winning neuron. "
   ]
  },
  {
   "cell_type": "markdown",
   "metadata": {},
   "source": [
    "Now we can 1) split the data in train and test set, 2) train the som, 3) print the classification report that contains all the metrics to evaluate the results of the classification."
   ]
  },
  {
   "cell_type": "code",
   "execution_count": 4,
   "metadata": {},
   "outputs": [
    {
     "name": "stdout",
     "output_type": "stream",
     "text": [
      "Periodic Boundary Conditions active.\n",
      "The weights will be initialised with PCA.\n",
      "              precision    recall  f1-score   support\n",
      "\n",
      "           0       1.00      0.60      0.75        15\n",
      "           1       0.48      0.83      0.61        18\n",
      "           2       0.40      0.17      0.24        12\n",
      "\n",
      "    accuracy                           0.58        45\n",
      "   macro avg       0.63      0.53      0.53        45\n",
      "weighted avg       0.63      0.58      0.56        45\n",
      "\n"
     ]
    }
   ],
   "source": [
    "from sklearn.model_selection import train_test_split\n",
    "from sklearn.metrics import classification_report\n",
    "import numpy as np\n",
    "X_train, X_test, y_train, y_test = train_test_split(data.data, labels, stratify=labels)\n",
    "\n",
    "som=SOM().create(20, 20, X_train, target=y_train,pci=True, pbc=True)\n",
    "\n",
    "som.train(epochs=10000,verbose=False)\n",
    "\n",
    "print(classification_report(y_test, som.classify(X_test)))"
   ]
  },
  {
   "cell_type": "code",
   "execution_count": null,
   "metadata": {},
   "outputs": [],
   "source": []
  }
 ],
 "metadata": {
  "kernelspec": {
   "display_name": "Python 3",
   "language": "python",
   "name": "python3"
  },
  "language_info": {
   "codemirror_mode": {
    "name": "ipython",
    "version": 3
   },
   "file_extension": ".py",
   "mimetype": "text/x-python",
   "name": "python",
   "nbconvert_exporter": "python",
   "pygments_lexer": "ipython3",
   "version": "3.9.7"
  }
 },
 "nbformat": 4,
 "nbformat_minor": 2
}
